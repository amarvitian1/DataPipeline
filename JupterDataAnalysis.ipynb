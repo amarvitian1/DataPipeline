{
 "cells": [
  {
   "cell_type": "code",
   "execution_count": 2,
   "metadata": {},
   "outputs": [],
   "source": [
    "import pandas as pd"
   ]
  },
  {
   "cell_type": "code",
   "execution_count": 3,
   "metadata": {},
   "outputs": [
    {
     "name": "stdout",
     "output_type": "stream",
     "text": [
      "Amar\n"
     ]
    }
   ],
   "source": [
    "print(\"Amar\")"
   ]
  },
  {
   "cell_type": "code",
   "execution_count": 4,
   "metadata": {},
   "outputs": [],
   "source": [
    "import pymysql"
   ]
  },
  {
   "cell_type": "code",
   "execution_count": 5,
   "metadata": {},
   "outputs": [],
   "source": [
    "con = pymysql.connect(host='arxiv-rss.cylz9khr50pz.us-east-2.rds.amazonaws.com',\n",
    "                                user='root',\n",
    "                                password='')\n",
    " "
   ]
  },
  {
   "cell_type": "code",
   "execution_count": 6,
   "metadata": {},
   "outputs": [],
   "source": [
    "df = pd.read_sql('select * from arxiv.tasks', con)"
   ]
  },
  {
   "cell_type": "code",
   "execution_count": 7,
   "metadata": {},
   "outputs": [
    {
     "data": {
      "text/html": [
       "<div>\n",
       "<style scoped>\n",
       "    .dataframe tbody tr th:only-of-type {\n",
       "        vertical-align: middle;\n",
       "    }\n",
       "\n",
       "    .dataframe tbody tr th {\n",
       "        vertical-align: top;\n",
       "    }\n",
       "\n",
       "    .dataframe thead th {\n",
       "        text-align: right;\n",
       "    }\n",
       "</style>\n",
       "<table border=\"1\" class=\"dataframe\">\n",
       "  <thead>\n",
       "    <tr style=\"text-align: right;\">\n",
       "      <th></th>\n",
       "      <th>task_id</th>\n",
       "      <th>link</th>\n",
       "      <th>title</th>\n",
       "      <th>description</th>\n",
       "      <th>loaddate</th>\n",
       "    </tr>\n",
       "  </thead>\n",
       "  <tbody>\n",
       "    <tr>\n",
       "      <th>0</th>\n",
       "      <td>2297</td>\n",
       "      <td>http://arxiv.org/abs/1903.12178</td>\n",
       "      <td>Open-ended  Evolution  and  a  Mechanism  of  ...</td>\n",
       "      <td>&lt;p&gt;Analogous  to  living  ecosystems  in  natu...</td>\n",
       "      <td>2019-04-01 22:52:19</td>\n",
       "    </tr>\n",
       "    <tr>\n",
       "      <th>1</th>\n",
       "      <td>2298</td>\n",
       "      <td>http://arxiv.org/abs/1903.12204</td>\n",
       "      <td>Mutex-based  Desanonymization  of  an  Anonymo...</td>\n",
       "      <td>&lt;p&gt;Anonymous  shared  memory  is  a  memory  i...</td>\n",
       "      <td>2019-04-01 22:52:19</td>\n",
       "    </tr>\n",
       "    <tr>\n",
       "      <th>2</th>\n",
       "      <td>2299</td>\n",
       "      <td>http://arxiv.org/abs/1903.12206</td>\n",
       "      <td>Counting  with  Focus  for  Free.  (arXiv:1903...</td>\n",
       "      <td>&lt;p&gt;This  paper  aims  to  count  arbitrary  ob...</td>\n",
       "      <td>2019-04-01 22:52:19</td>\n",
       "    </tr>\n",
       "    <tr>\n",
       "      <th>3</th>\n",
       "      <td>2300</td>\n",
       "      <td>http://arxiv.org/abs/1903.12211</td>\n",
       "      <td>Privacy  of  trajectory  micro-data  :  a  sur...</td>\n",
       "      <td>&lt;p&gt;We  survey  the  literature  on  the  priva...</td>\n",
       "      <td>2019-04-01 22:52:19</td>\n",
       "    </tr>\n",
       "    <tr>\n",
       "      <th>4</th>\n",
       "      <td>2301</td>\n",
       "      <td>http://arxiv.org/abs/1903.12212</td>\n",
       "      <td>All  about  Structure:  Adapting  Structural  ...</td>\n",
       "      <td>&lt;p&gt;In  this  paper  we  tackle  the  problem  ...</td>\n",
       "      <td>2019-04-01 22:52:19</td>\n",
       "    </tr>\n",
       "  </tbody>\n",
       "</table>\n",
       "</div>"
      ],
      "text/plain": [
       "   task_id                             link  \\\n",
       "0     2297  http://arxiv.org/abs/1903.12178   \n",
       "1     2298  http://arxiv.org/abs/1903.12204   \n",
       "2     2299  http://arxiv.org/abs/1903.12206   \n",
       "3     2300  http://arxiv.org/abs/1903.12211   \n",
       "4     2301  http://arxiv.org/abs/1903.12212   \n",
       "\n",
       "                                               title  \\\n",
       "0  Open-ended  Evolution  and  a  Mechanism  of  ...   \n",
       "1  Mutex-based  Desanonymization  of  an  Anonymo...   \n",
       "2  Counting  with  Focus  for  Free.  (arXiv:1903...   \n",
       "3  Privacy  of  trajectory  micro-data  :  a  sur...   \n",
       "4  All  about  Structure:  Adapting  Structural  ...   \n",
       "\n",
       "                                         description             loaddate  \n",
       "0  <p>Analogous  to  living  ecosystems  in  natu...  2019-04-01 22:52:19  \n",
       "1  <p>Anonymous  shared  memory  is  a  memory  i...  2019-04-01 22:52:19  \n",
       "2  <p>This  paper  aims  to  count  arbitrary  ob...  2019-04-01 22:52:19  \n",
       "3  <p>We  survey  the  literature  on  the  priva...  2019-04-01 22:52:19  \n",
       "4  <p>In  this  paper  we  tackle  the  problem  ...  2019-04-01 22:52:19  "
      ]
     },
     "execution_count": 7,
     "metadata": {},
     "output_type": "execute_result"
    }
   ],
   "source": [
    "df.head(5)"
   ]
  },
  {
   "cell_type": "code",
   "execution_count": 8,
   "metadata": {},
   "outputs": [
    {
     "data": {
      "text/plain": [
       "0    http://arxiv.org/abs/1903.12178\n",
       "1    http://arxiv.org/abs/1903.12204\n",
       "2    http://arxiv.org/abs/1903.12206\n",
       "3    http://arxiv.org/abs/1903.12211\n",
       "4    http://arxiv.org/abs/1903.12212\n",
       "Name: link, dtype: object"
      ]
     },
     "execution_count": 8,
     "metadata": {},
     "output_type": "execute_result"
    }
   ],
   "source": [
    "df['link'].head(5)"
   ]
  },
  {
   "cell_type": "code",
   "execution_count": 9,
   "metadata": {},
   "outputs": [
    {
     "data": {
      "text/plain": [
       "0    2297\n",
       "1    2298\n",
       "2    2299\n",
       "3    2300\n",
       "4    2301\n",
       "Name: task_id, dtype: int64"
      ]
     },
     "execution_count": 9,
     "metadata": {},
     "output_type": "execute_result"
    }
   ],
   "source": [
    "df['task_id'].head(5)"
   ]
  },
  {
   "cell_type": "code",
   "execution_count": 10,
   "metadata": {},
   "outputs": [
    {
     "data": {
      "text/plain": [
       "1031    3362\n",
       "1032    3363\n",
       "1033    3364\n",
       "1034    3365\n",
       "1035    3366\n",
       "Name: task_id, dtype: int64"
      ]
     },
     "execution_count": 10,
     "metadata": {},
     "output_type": "execute_result"
    }
   ],
   "source": [
    "df['task_id'].tail(5)"
   ]
  },
  {
   "cell_type": "code",
   "execution_count": 11,
   "metadata": {},
   "outputs": [
    {
     "data": {
      "text/plain": [
       "1036"
      ]
     },
     "execution_count": 11,
     "metadata": {},
     "output_type": "execute_result"
    }
   ],
   "source": [
    "df['link'].count()"
   ]
  },
  {
   "cell_type": "code",
   "execution_count": 12,
   "metadata": {},
   "outputs": [
    {
     "data": {
      "text/plain": [
       "<bound method Series.count of 0       False\n",
       "1       False\n",
       "2       False\n",
       "3       False\n",
       "4       False\n",
       "5       False\n",
       "6       False\n",
       "7       False\n",
       "8       False\n",
       "9       False\n",
       "10      False\n",
       "11      False\n",
       "12      False\n",
       "13      False\n",
       "14      False\n",
       "15      False\n",
       "16      False\n",
       "17      False\n",
       "18      False\n",
       "19      False\n",
       "20      False\n",
       "21      False\n",
       "22      False\n",
       "23      False\n",
       "24      False\n",
       "25      False\n",
       "26      False\n",
       "27      False\n",
       "28      False\n",
       "29      False\n",
       "        ...  \n",
       "1006    False\n",
       "1007    False\n",
       "1008    False\n",
       "1009    False\n",
       "1010    False\n",
       "1011    False\n",
       "1012    False\n",
       "1013    False\n",
       "1014    False\n",
       "1015    False\n",
       "1016    False\n",
       "1017    False\n",
       "1018    False\n",
       "1019    False\n",
       "1020    False\n",
       "1021    False\n",
       "1022    False\n",
       "1023    False\n",
       "1024    False\n",
       "1025    False\n",
       "1026    False\n",
       "1027    False\n",
       "1028    False\n",
       "1029    False\n",
       "1030    False\n",
       "1031    False\n",
       "1032    False\n",
       "1033    False\n",
       "1034    False\n",
       "1035    False\n",
       "Name: link, Length: 1036, dtype: bool>"
      ]
     },
     "execution_count": 12,
     "metadata": {},
     "output_type": "execute_result"
    }
   ],
   "source": [
    "df['link'].isnull().count"
   ]
  },
  {
   "cell_type": "code",
   "execution_count": null,
   "metadata": {},
   "outputs": [],
   "source": []
  }
 ],
 "metadata": {
  "kernelspec": {
   "display_name": "Python 3",
   "language": "python",
   "name": "python3"
  },
  "language_info": {
   "codemirror_mode": {
    "name": "ipython",
    "version": 3
   },
   "file_extension": ".py",
   "mimetype": "text/x-python",
   "name": "python",
   "nbconvert_exporter": "python",
   "pygments_lexer": "ipython3",
   "version": "3.7.3"
  }
 },
 "nbformat": 4,
 "nbformat_minor": 2
}
